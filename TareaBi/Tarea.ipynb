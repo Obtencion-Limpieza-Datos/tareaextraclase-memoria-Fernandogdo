{
 "cells": [
  {
   "cell_type": "code",
   "execution_count": 1,
   "metadata": {},
   "outputs": [],
   "source": [
    "import pandas as pd\n",
    "import sys\n",
    "import datetime as dt\n",
    "import numpy as np\n",
    "import matplotlib.pyplot as plt\n",
    "import matplotlib\n",
    "from pandas.tools.plotting import radviz\n",
    "\n",
    "%matplotlib inline\n"
   ]
  },
  {
   "cell_type": "code",
   "execution_count": 2,
   "metadata": {},
   "outputs": [
    {
     "name": "stderr",
     "output_type": "stream",
     "text": [
      "/home/fermando/utpl/ent/local/lib/python2.7/site-packages/IPython/core/interactiveshell.py:2714: DtypeWarning: Columns (3,5,12,13,14,16,17,27,29,31,32,36,37) have mixed types. Specify dtype option on import or set low_memory=False.\n",
      "  interactivity=interactivity, compiler=compiler, result=result)\n"
     ]
    }
   ],
   "source": [
    "df = pd.read_csv(\"ENV_2017.csv\", encoding='latin-1')\n"
   ]
  },
  {
   "cell_type": "code",
   "execution_count": 3,
   "metadata": {},
   "outputs": [
    {
     "name": "stdout",
     "output_type": "stream",
     "text": [
      "<class 'pandas.core.frame.DataFrame'>\n",
      "RangeIndex: 308252 entries, 0 to 308251\n",
      "Data columns (total 47 columns):\n",
      "prov_insc     308252 non-null object\n",
      "cant_insc     308252 non-null object\n",
      "parr_insc     308252 non-null object\n",
      "anio_insc     308252 non-null object\n",
      "mes_insc      308252 non-null object\n",
      "dia_insc      308252 non-null object\n",
      "fecha_insc    308252 non-null object\n",
      "sexo          308252 non-null object\n",
      "anio_nac      308252 non-null int64\n",
      "mes_nac       308252 non-null object\n",
      "dia_nac       308252 non-null int64\n",
      "fecha_nac     308252 non-null object\n",
      "talla         308252 non-null object\n",
      "peso          308252 non-null object\n",
      "sem_gest      308252 non-null object\n",
      "tipo_part     308252 non-null object\n",
      "apgar1        308252 non-null object\n",
      "apgar5        308252 non-null object\n",
      "p_emb         308252 non-null object\n",
      "lugar_ocur    308252 non-null object\n",
      "prov_nac      308252 non-null object\n",
      "cant_nac      308252 non-null object\n",
      "parr_nac      308252 non-null object\n",
      "area_nac      308252 non-null object\n",
      "asis_por      308252 non-null object\n",
      "nac_mad       308252 non-null object\n",
      "cod_pais      308252 non-null object\n",
      "anio_mad      308252 non-null object\n",
      "mes_mad       308252 non-null object\n",
      "dia_mad       308252 non-null object\n",
      "fecha_mad     308252 non-null object\n",
      "edad_mad      308252 non-null object\n",
      "con_pren      308252 non-null object\n",
      "num_emb       308252 non-null int64\n",
      "num_par       308252 non-null int64\n",
      "hij_viv       308252 non-null int64\n",
      "hij_vivm      308252 non-null object\n",
      "hij_nacm      308252 non-null object\n",
      "etnia         308252 non-null object\n",
      "est_civil     308252 non-null object\n",
      "niv_inst      308252 non-null object\n",
      "sabe_leer     308252 non-null object\n",
      "prov_res      308252 non-null object\n",
      "cant_res      308252 non-null object\n",
      "parr_res      308252 non-null object\n",
      "area_res      308252 non-null object\n",
      "residente     308252 non-null object\n",
      "dtypes: int64(5), object(42)\n",
      "memory usage: 1005.5 MB\n"
     ]
    }
   ],
   "source": [
    "df.info(memory_usage='deep')"
   ]
  },
  {
   "cell_type": "code",
   "execution_count": 44,
   "metadata": {},
   "outputs": [],
   "source": [
    "df_nuevo = pd.read_csv(\"ENV_2017.csv\", encoding='latin-1')"
   ]
  },
  {
   "cell_type": "code",
   "execution_count": 45,
   "metadata": {},
   "outputs": [],
   "source": [
    "random_strings_array = np.random.choice(['a', 'b', 'c'], 10 ** 6)"
   ]
  },
  {
   "cell_type": "code",
   "execution_count": 46,
   "metadata": {},
   "outputs": [],
   "source": [
    "df_nuevo = pd.DataFrame({\n",
    "...     'column_1': np.random.choice(['a', 'b', 'c'], 10 ** 6),\n",
    "...     'column_2': np.random.choice(['a', 'b', 'c'], 10 ** 6),\n",
    "...     'column_3': np.random.choice(['a', 'b', 'c'], 10 ** 6)\n",
    "... })"
   ]
  },
  {
   "cell_type": "code",
   "execution_count": 40,
   "metadata": {},
   "outputs": [
    {
     "name": "stdout",
     "output_type": "stream",
     "text": [
      "<class 'pandas.core.frame.DataFrame'>\n",
      "RangeIndex: 1000000 entries, 0 to 999999\n",
      "Data columns (total 3 columns):\n",
      "column_1    1000000 non-null object\n",
      "column_2    1000000 non-null object\n",
      "column_3    1000000 non-null object\n",
      "dtypes: object(3)\n",
      "memory usage: 22.9+ MB\n"
     ]
    }
   ],
   "source": [
    "df_nuevo.info()"
   ]
  },
  {
   "cell_type": "code",
   "execution_count": null,
   "metadata": {},
   "outputs": [],
   "source": []
  }
 ],
 "metadata": {
  "kernelspec": {
   "display_name": "Python 2",
   "language": "python",
   "name": "python2"
  },
  "language_info": {
   "codemirror_mode": {
    "name": "ipython",
    "version": 2
   },
   "file_extension": ".py",
   "mimetype": "text/x-python",
   "name": "python",
   "nbconvert_exporter": "python",
   "pygments_lexer": "ipython2",
   "version": "2.7.15rc1"
  }
 },
 "nbformat": 4,
 "nbformat_minor": 2
}
