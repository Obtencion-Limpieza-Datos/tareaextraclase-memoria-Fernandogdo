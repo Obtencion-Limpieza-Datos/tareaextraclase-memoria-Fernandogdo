{
 "cells": [
  {
   "cell_type": "code",
   "execution_count": 182,
   "metadata": {},
   "outputs": [],
   "source": [
    "import pandas as pd\n",
    "import sys\n",
    "import datetime as dt\n",
    "import numpy as np\n",
    "import matplotlib.pyplot as plt\n",
    "import matplotlib\n",
    "from pandas.tools.plotting import radviz\n",
    "\n",
    "%matplotlib inline\n"
   ]
  },
  {
   "cell_type": "code",
   "execution_count": 183,
   "metadata": {},
   "outputs": [],
   "source": [
    "df = pd.read_csv(\"ENV_2017.csv\", encoding='latin-1',low_memory = False)\n"
   ]
  },
  {
   "cell_type": "code",
   "execution_count": 184,
   "metadata": {},
   "outputs": [
    {
     "name": "stdout",
     "output_type": "stream",
     "text": [
      "<class 'pandas.core.frame.DataFrame'>\n",
      "RangeIndex: 308252 entries, 0 to 308251\n",
      "Data columns (total 47 columns):\n",
      "prov_insc     308252 non-null object\n",
      "cant_insc     308252 non-null object\n",
      "parr_insc     308252 non-null object\n",
      "anio_insc     308252 non-null object\n",
      "mes_insc      308252 non-null object\n",
      "dia_insc      308252 non-null object\n",
      "fecha_insc    308252 non-null object\n",
      "sexo          308252 non-null object\n",
      "anio_nac      308252 non-null int64\n",
      "mes_nac       308252 non-null object\n",
      "dia_nac       308252 non-null int64\n",
      "fecha_nac     308252 non-null object\n",
      "talla         308252 non-null object\n",
      "peso          308252 non-null object\n",
      "sem_gest      308252 non-null object\n",
      "tipo_part     308252 non-null object\n",
      "apgar1        308252 non-null object\n",
      "apgar5        308252 non-null object\n",
      "p_emb         308252 non-null object\n",
      "lugar_ocur    308252 non-null object\n",
      "prov_nac      308252 non-null object\n",
      "cant_nac      308252 non-null object\n",
      "parr_nac      308252 non-null object\n",
      "area_nac      308252 non-null object\n",
      "asis_por      308252 non-null object\n",
      "nac_mad       308252 non-null object\n",
      "cod_pais      308252 non-null object\n",
      "anio_mad      308252 non-null object\n",
      "mes_mad       308252 non-null object\n",
      "dia_mad       308252 non-null object\n",
      "fecha_mad     308252 non-null object\n",
      "edad_mad      308252 non-null object\n",
      "con_pren      308252 non-null object\n",
      "num_emb       308252 non-null int64\n",
      "num_par       308252 non-null int64\n",
      "hij_viv       308252 non-null int64\n",
      "hij_vivm      308252 non-null object\n",
      "hij_nacm      308252 non-null object\n",
      "etnia         308252 non-null object\n",
      "est_civil     308252 non-null object\n",
      "niv_inst      308252 non-null object\n",
      "sabe_leer     308252 non-null object\n",
      "prov_res      308252 non-null object\n",
      "cant_res      308252 non-null object\n",
      "parr_res      308252 non-null object\n",
      "area_res      308252 non-null object\n",
      "residente     308252 non-null object\n",
      "dtypes: int64(5), object(42)\n",
      "memory usage: 1.1 GB\n"
     ]
    }
   ],
   "source": [
    "df.info(memory_usage='deep')\n"
   ]
  },
  {
   "cell_type": "code",
   "execution_count": 185,
   "metadata": {},
   "outputs": [
    {
     "name": "stdout",
     "output_type": "stream",
     "text": [
      "1101.00 MB\n",
      "18.00 MB\n"
     ]
    }
   ],
   "source": [
    "dfn = pd.DataFrame()\n",
    "\n",
    "for col in df_nuevo.columns:\n",
    "    valores_u = len(df_nuevo[col].unique())\n",
    "    valores_total = len(df_nuevo[col])\n",
    "    if num_unique_values / valores_total < 0.5:\n",
    "        dfn.loc[:,col] = df[col].astype('category')\n",
    "    else:\n",
    "        dfn.num_total_valuesloc[:,col] = gl_obj[col]\n",
    "        \n",
    "print(memoria(df))\n",
    "print(memoria(df_nuevo))\n",
    "\n"
   ]
  },
  {
   "cell_type": "code",
   "execution_count": 186,
   "metadata": {},
   "outputs": [
    {
     "name": "stdout",
     "output_type": "stream",
     "text": [
      "<class 'pandas.core.frame.DataFrame'>\n",
      "RangeIndex: 308252 entries, 0 to 308251\n",
      "Data columns (total 42 columns):\n",
      "prov_insc     308252 non-null category\n",
      "cant_insc     308252 non-null category\n",
      "parr_insc     308252 non-null category\n",
      "anio_insc     308252 non-null category\n",
      "mes_insc      308252 non-null category\n",
      "dia_insc      308252 non-null category\n",
      "fecha_insc    308252 non-null category\n",
      "sexo          308252 non-null category\n",
      "mes_nac       308252 non-null category\n",
      "fecha_nac     308252 non-null category\n",
      "talla         308252 non-null category\n",
      "peso          308252 non-null category\n",
      "sem_gest      308252 non-null category\n",
      "tipo_part     308252 non-null category\n",
      "apgar1        308252 non-null category\n",
      "apgar5        308252 non-null category\n",
      "p_emb         308252 non-null category\n",
      "lugar_ocur    308252 non-null category\n",
      "prov_nac      308252 non-null category\n",
      "cant_nac      308252 non-null category\n",
      "parr_nac      308252 non-null category\n",
      "area_nac      308252 non-null category\n",
      "asis_por      308252 non-null category\n",
      "nac_mad       308252 non-null category\n",
      "cod_pais      308252 non-null category\n",
      "anio_mad      308252 non-null category\n",
      "mes_mad       308252 non-null category\n",
      "dia_mad       308252 non-null category\n",
      "fecha_mad     308252 non-null category\n",
      "edad_mad      308252 non-null category\n",
      "con_pren      308252 non-null category\n",
      "hij_vivm      308252 non-null category\n",
      "hij_nacm      308252 non-null category\n",
      "etnia         308252 non-null category\n",
      "est_civil     308252 non-null category\n",
      "niv_inst      308252 non-null category\n",
      "sabe_leer     308252 non-null category\n",
      "prov_res      308252 non-null category\n",
      "cant_res      308252 non-null category\n",
      "parr_res      308252 non-null category\n",
      "area_res      308252 non-null category\n",
      "residente     308252 non-null category\n",
      "dtypes: category(42)\n",
      "memory usage: 18.1 MB\n"
     ]
    }
   ],
   "source": [
    "df_nuevo.info(memory_usage='deep')\n"
   ]
  },
  {
   "cell_type": "code",
   "execution_count": null,
   "metadata": {},
   "outputs": [],
   "source": []
  },
  {
   "cell_type": "code",
   "execution_count": null,
   "metadata": {},
   "outputs": [],
   "source": []
  },
  {
   "cell_type": "code",
   "execution_count": null,
   "metadata": {},
   "outputs": [],
   "source": []
  },
  {
   "cell_type": "code",
   "execution_count": null,
   "metadata": {},
   "outputs": [],
   "source": []
  },
  {
   "cell_type": "code",
   "execution_count": null,
   "metadata": {},
   "outputs": [],
   "source": []
  },
  {
   "cell_type": "code",
   "execution_count": null,
   "metadata": {},
   "outputs": [],
   "source": []
  }
 ],
 "metadata": {
  "kernelspec": {
   "display_name": "Python 2",
   "language": "python",
   "name": "python2"
  },
  "language_info": {
   "codemirror_mode": {
    "name": "ipython",
    "version": 2
   },
   "file_extension": ".py",
   "mimetype": "text/x-python",
   "name": "python",
   "nbconvert_exporter": "python",
   "pygments_lexer": "ipython2",
   "version": "2.7.15rc1"
  }
 },
 "nbformat": 4,
 "nbformat_minor": 2
}
